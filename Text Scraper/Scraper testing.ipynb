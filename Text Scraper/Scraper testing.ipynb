{
 "cells": [
  {
   "cell_type": "markdown",
   "metadata": {},
   "source": [
    "### Getting url from extension"
   ]
  },
  {
   "cell_type": "code",
   "execution_count": 62,
   "metadata": {},
   "outputs": [
    {
     "name": "stderr",
     "output_type": "stream",
     "text": [
      "[nltk_data] Downloading package stopwords to\n",
      "[nltk_data]     C:\\Users\\redmo\\AppData\\Roaming\\nltk_data...\n",
      "[nltk_data]   Package stopwords is already up-to-date!\n"
     ]
    }
   ],
   "source": [
    "import requests\n",
    "from bs4 import BeautifulSoup as bs\n",
    "import readability\n",
    "from readability import Document\n",
    "import eventregistry\n",
    "import nltk\n",
    "nltk.download('stopwords')\n",
    "from nltk.corpus import stopwords\n",
    "import numpy as np"
   ]
  },
  {
   "cell_type": "code",
   "execution_count": 63,
   "metadata": {},
   "outputs": [],
   "source": [
    "API_KEY = \"69ea4f52545a4750a3c0e49811ffc8d3\"\n",
    "NEWS_API_URL = 'https://newsapi.org/v2/top-headlines'"
   ]
  },
  {
   "cell_type": "code",
   "execution_count": 64,
   "metadata": {},
   "outputs": [],
   "source": [
    "# Example sentiment dictionary\n",
    "eg_sentiment_payload = dict({\n",
    "    \"Left\":0.2,\n",
    "    \"Middle\":0.1,\n",
    "    \"Right\":0.7\n",
    "})\n",
    "\n",
    "# Example text dict\n",
    "scraped_payload = dict({\n",
    "    \"text\": \"blahblahblah\",\n",
    "    \"url\": \"skibidid.\",\n",
    "    \"title\": \"Donald Trump is a great rolemodel\"\n",
    "})"
   ]
  },
  {
   "cell_type": "markdown",
   "metadata": {},
   "source": [
    "### 2 inputs\n",
    "\n",
    "* Text, Title, url json payload\n",
    "\n",
    "* Sentiment payload"
   ]
  },
  {
   "cell_type": "code",
   "execution_count": 65,
   "metadata": {},
   "outputs": [],
   "source": [
    "def FindArticleTitle(json_thing):\n",
    "    \n",
    "\tdic = dict(json_thing)\n",
    "\n",
    "\ttitle = dic[\"title\"]\n",
    "\n",
    "\treturn title"
   ]
  },
  {
   "cell_type": "code",
   "execution_count": 66,
   "metadata": {},
   "outputs": [],
   "source": [
    "# Sentiment processor\n",
    "def SentimentProcessor(dic):\n",
    "    \n",
    "\t# Returning the side thats highest\n",
    "    return max(dic, key=dic.get)"
   ]
  },
  {
   "cell_type": "code",
   "execution_count": 67,
   "metadata": {},
   "outputs": [],
   "source": [
    "def KeywordFinder(article_title, stopwords):\n",
    "    \n",
    "\t# Extracting stop words\n",
    "    stopwords = set(stopwords.words('english'))\n",
    "    \n",
    "\t# Tokenizing the article title\n",
    "    article_tokens = article_title.split()\n",
    "    \n",
    "\t# Filtering stop words\n",
    "    keywords = [word for word in article_tokens if word.lower() not in stopwords]\n",
    "    \n",
    "    return keywords"
   ]
  },
  {
   "cell_type": "code",
   "execution_count": 68,
   "metadata": {},
   "outputs": [],
   "source": [
    "def SearchArticle(keyword, api_key):\n",
    "    \n",
    "\turl = 'https://newsapi.org/v2/top-headlines'\n",
    "\t# api_key = \"69ea4f52545a4750a3c0e49811ffc8d3\"\n",
    "\n",
    "\t# Define parameters for the request (e.g., get US headlines)\t\n",
    "\tparams = {\n",
    "    \t'q': keyword,\n",
    "    \t'country': 'us',\n",
    "    \t'pageSize': 10,  # Limit the number of articles returned\n",
    "    \t'apiKey': api_key\n",
    "\t}\n",
    "\n",
    "\t# Make the GET request to the News API\n",
    "\tresponse = requests.get(url, params=params)\n",
    "\t\n",
    "\tif response.status_code == 200:\n",
    "\t\tdata = response.json()\n",
    "\t\treturn data.get('articles', [])\n",
    "\telse:\n",
    "\t\tprint(f\"Error fetching news for keyword '{keyword}':\", response.status_code)\n",
    "\t\treturn []"
   ]
  },
  {
   "cell_type": "code",
   "execution_count": 1,
   "metadata": {},
   "outputs": [],
   "source": [
    "my_dic = {'url': ['https://apnews.com/article/immigration-border-ice-trump-deportation-4efd094b7b353e4350493986cd6975c2', 'https://www.ft.com/content/5d0121b9-f2ee-4674-a841-11e6f1b713ce', 'https://www.cfr.org/article/art-ukraine-deal', 'https://www.cnn.com/2025/02/21/media/ap-sues-trump-administration/index.html', 'https://apnews.com/article/trump-usaid-foreign-aid-staffing-cuts-lawsuits-d1ec029b4d14c37c25abc5dc07066471', 'https://apnews.com/article/immigration-border-ice-trump-deportation-4efd094b7b353e4350493986cd6975c2', 'https://www.ft.com/content/5d0121b9-f2ee-4674-a841-11e6f1b713ce', 'https://www.cfr.org/article/art-ukraine-deal', 'https://www.washingtonpost.com/sports/2025/02/21/canada-usa-hockey-trudeau-trump-2025/', 'https://abcnews.go.com/Politics/trump-good-talks-putin-ukraine-escalates-criticism-zelenskyy/story?id\\\\\\\\u003d119052237'], 'Score': [0.9948961138725281, 0.9148224592208862, 0.8634225726127625, 0.9945706725120544, 0.9950018525123596, 0.9948961138725281, 0.9148224592208862, 0.8634225726127625, 0.8634225726127625, 0.8634225726127625], 'Lean': ['Middle', 'Left', 'Left', 'Left', 'Middle', 'Middle', 'Left', 'Left', 'Left', 'Left']}"
   ]
  },
  {
   "cell_type": "code",
   "execution_count": 2,
   "metadata": {},
   "outputs": [],
   "source": [
    "import pandas as pd"
   ]
  },
  {
   "cell_type": "code",
   "execution_count": null,
   "metadata": {},
   "outputs": [],
   "source": [
    "# Create DataFrame\n",
    "df = pd.DataFrame(my_dic)\n",
    "df_sorted = df.sort_values(by='Score', ascending=False).reset_index(drop=True)\n",
    "x = df_sorted.to_dict(orient='list')\n"
   ]
  },
  {
   "cell_type": "code",
   "execution_count": 9,
   "metadata": {},
   "outputs": [
    {
     "data": {
      "text/html": [
       "<div>\n",
       "<style scoped>\n",
       "    .dataframe tbody tr th:only-of-type {\n",
       "        vertical-align: middle;\n",
       "    }\n",
       "\n",
       "    .dataframe tbody tr th {\n",
       "        vertical-align: top;\n",
       "    }\n",
       "\n",
       "    .dataframe thead th {\n",
       "        text-align: right;\n",
       "    }\n",
       "</style>\n",
       "<table border=\"1\" class=\"dataframe\">\n",
       "  <thead>\n",
       "    <tr style=\"text-align: right;\">\n",
       "      <th></th>\n",
       "      <th>url</th>\n",
       "      <th>Score</th>\n",
       "      <th>Lean</th>\n",
       "    </tr>\n",
       "  </thead>\n",
       "  <tbody>\n",
       "    <tr>\n",
       "      <th>0</th>\n",
       "      <td>https://apnews.com/article/trump-usaid-foreign...</td>\n",
       "      <td>0.995002</td>\n",
       "      <td>Middle</td>\n",
       "    </tr>\n",
       "    <tr>\n",
       "      <th>1</th>\n",
       "      <td>https://apnews.com/article/immigration-border-...</td>\n",
       "      <td>0.994896</td>\n",
       "      <td>Middle</td>\n",
       "    </tr>\n",
       "    <tr>\n",
       "      <th>2</th>\n",
       "      <td>https://apnews.com/article/immigration-border-...</td>\n",
       "      <td>0.994896</td>\n",
       "      <td>Middle</td>\n",
       "    </tr>\n",
       "    <tr>\n",
       "      <th>3</th>\n",
       "      <td>https://www.cnn.com/2025/02/21/media/ap-sues-t...</td>\n",
       "      <td>0.994571</td>\n",
       "      <td>Left</td>\n",
       "    </tr>\n",
       "    <tr>\n",
       "      <th>4</th>\n",
       "      <td>https://www.ft.com/content/5d0121b9-f2ee-4674-...</td>\n",
       "      <td>0.914822</td>\n",
       "      <td>Left</td>\n",
       "    </tr>\n",
       "    <tr>\n",
       "      <th>5</th>\n",
       "      <td>https://www.ft.com/content/5d0121b9-f2ee-4674-...</td>\n",
       "      <td>0.914822</td>\n",
       "      <td>Left</td>\n",
       "    </tr>\n",
       "    <tr>\n",
       "      <th>6</th>\n",
       "      <td>https://www.cfr.org/article/art-ukraine-deal</td>\n",
       "      <td>0.863423</td>\n",
       "      <td>Left</td>\n",
       "    </tr>\n",
       "    <tr>\n",
       "      <th>7</th>\n",
       "      <td>https://www.cfr.org/article/art-ukraine-deal</td>\n",
       "      <td>0.863423</td>\n",
       "      <td>Left</td>\n",
       "    </tr>\n",
       "    <tr>\n",
       "      <th>8</th>\n",
       "      <td>https://www.washingtonpost.com/sports/2025/02/...</td>\n",
       "      <td>0.863423</td>\n",
       "      <td>Left</td>\n",
       "    </tr>\n",
       "    <tr>\n",
       "      <th>9</th>\n",
       "      <td>https://abcnews.go.com/Politics/trump-good-tal...</td>\n",
       "      <td>0.863423</td>\n",
       "      <td>Left</td>\n",
       "    </tr>\n",
       "  </tbody>\n",
       "</table>\n",
       "</div>"
      ],
      "text/plain": [
       "                                                 url     Score    Lean\n",
       "0  https://apnews.com/article/trump-usaid-foreign...  0.995002  Middle\n",
       "1  https://apnews.com/article/immigration-border-...  0.994896  Middle\n",
       "2  https://apnews.com/article/immigration-border-...  0.994896  Middle\n",
       "3  https://www.cnn.com/2025/02/21/media/ap-sues-t...  0.994571    Left\n",
       "4  https://www.ft.com/content/5d0121b9-f2ee-4674-...  0.914822    Left\n",
       "5  https://www.ft.com/content/5d0121b9-f2ee-4674-...  0.914822    Left\n",
       "6       https://www.cfr.org/article/art-ukraine-deal  0.863423    Left\n",
       "7       https://www.cfr.org/article/art-ukraine-deal  0.863423    Left\n",
       "8  https://www.washingtonpost.com/sports/2025/02/...  0.863423    Left\n",
       "9  https://abcnews.go.com/Politics/trump-good-tal...  0.863423    Left"
      ]
     },
     "execution_count": 9,
     "metadata": {},
     "output_type": "execute_result"
    }
   ],
   "source": [
    "df_sorted"
   ]
  },
  {
   "cell_type": "code",
   "execution_count": 11,
   "metadata": {},
   "outputs": [
    {
     "data": {
      "text/plain": [
       "{'url': 'https://apnews.com/article/trump-usaid-foreign-aid-staffing-cuts-lawsuits-d1ec029b4d14c37c25abc5dc07066471',\n",
       " 'Score': 0.9950018525123596,\n",
       " 'Lean': 'Middle'}"
      ]
     },
     "execution_count": 11,
     "metadata": {},
     "output_type": "execute_result"
    }
   ],
   "source": [
    "df_sorted.iloc[0].to_dict()"
   ]
  },
  {
   "cell_type": "code",
   "execution_count": null,
   "metadata": {},
   "outputs": [],
   "source": [
    "x = df_sorted.to_dict(orient='list')"
   ]
  },
  {
   "cell_type": "code",
   "execution_count": 7,
   "metadata": {},
   "outputs": [
    {
     "data": {
      "text/plain": [
       "{'url': ['https://apnews.com/article/trump-usaid-foreign-aid-staffing-cuts-lawsuits-d1ec029b4d14c37c25abc5dc07066471',\n",
       "  'https://apnews.com/article/immigration-border-ice-trump-deportation-4efd094b7b353e4350493986cd6975c2',\n",
       "  'https://apnews.com/article/immigration-border-ice-trump-deportation-4efd094b7b353e4350493986cd6975c2',\n",
       "  'https://www.cnn.com/2025/02/21/media/ap-sues-trump-administration/index.html',\n",
       "  'https://www.ft.com/content/5d0121b9-f2ee-4674-a841-11e6f1b713ce',\n",
       "  'https://www.ft.com/content/5d0121b9-f2ee-4674-a841-11e6f1b713ce',\n",
       "  'https://www.cfr.org/article/art-ukraine-deal',\n",
       "  'https://www.cfr.org/article/art-ukraine-deal',\n",
       "  'https://www.washingtonpost.com/sports/2025/02/21/canada-usa-hockey-trudeau-trump-2025/',\n",
       "  'https://abcnews.go.com/Politics/trump-good-talks-putin-ukraine-escalates-criticism-zelenskyy/story?id\\\\\\\\u003d119052237'],\n",
       " 'Score': [0.9950018525123596,\n",
       "  0.9948961138725281,\n",
       "  0.9948961138725281,\n",
       "  0.9945706725120544,\n",
       "  0.9148224592208862,\n",
       "  0.9148224592208862,\n",
       "  0.8634225726127625,\n",
       "  0.8634225726127625,\n",
       "  0.8634225726127625,\n",
       "  0.8634225726127625],\n",
       " 'Lean': ['Middle',\n",
       "  'Middle',\n",
       "  'Middle',\n",
       "  'Left',\n",
       "  'Left',\n",
       "  'Left',\n",
       "  'Left',\n",
       "  'Left',\n",
       "  'Left',\n",
       "  'Left']}"
      ]
     },
     "execution_count": 7,
     "metadata": {},
     "output_type": "execute_result"
    }
   ],
   "source": [
    "x"
   ]
  },
  {
   "cell_type": "code",
   "execution_count": 84,
   "metadata": {},
   "outputs": [
    {
     "data": {
      "text/plain": [
       "{'url': ['https://apnews.com/article/immigration-border-ice-trump-deportation-4efd094b7b353e4350493986cd6975c2',\n",
       "  'https://www.ft.com/content/5d0121b9-f2ee-4674-a841-11e6f1b713ce',\n",
       "  'https://www.cfr.org/article/art-ukraine-deal',\n",
       "  'https://www.cnn.com/2025/02/21/media/ap-sues-trump-administration/index.html',\n",
       "  'https://apnews.com/article/trump-usaid-foreign-aid-staffing-cuts-lawsuits-d1ec029b4d14c37c25abc5dc07066471',\n",
       "  'https://apnews.com/article/immigration-border-ice-trump-deportation-4efd094b7b353e4350493986cd6975c2',\n",
       "  'https://www.ft.com/content/5d0121b9-f2ee-4674-a841-11e6f1b713ce',\n",
       "  'https://www.cfr.org/article/art-ukraine-deal',\n",
       "  'https://www.washingtonpost.com/sports/2025/02/21/canada-usa-hockey-trudeau-trump-2025/',\n",
       "  'https://abcnews.go.com/Politics/trump-good-talks-putin-ukraine-escalates-criticism-zelenskyy/story?id\\\\\\\\u003d119052237'],\n",
       " 'Score': [0.9948961138725281,\n",
       "  0.9148224592208862,\n",
       "  0.8634225726127625,\n",
       "  0.9945706725120544,\n",
       "  0.9950018525123596,\n",
       "  0.9948961138725281,\n",
       "  0.9148224592208862,\n",
       "  0.8634225726127625,\n",
       "  0.8634225726127625,\n",
       "  0.8634225726127625],\n",
       " 'Lean': ['Middle',\n",
       "  'Left',\n",
       "  'Left',\n",
       "  'Left',\n",
       "  'Middle',\n",
       "  'Middle',\n",
       "  'Left',\n",
       "  'Left',\n",
       "  'Left',\n",
       "  'Left']}"
      ]
     },
     "execution_count": 84,
     "metadata": {},
     "output_type": "execute_result"
    }
   ],
   "source": [
    "my_dic"
   ]
  },
  {
   "cell_type": "code",
   "execution_count": 76,
   "metadata": {},
   "outputs": [],
   "source": [
    "def NewsArticleFinder(api_key, stopwords, scraped_payload, sentiment_payload):\n",
    "\n",
    "\tcurrent_article_sentiment = SentimentProcessor(sentiment_payload)\n",
    "\tcurrent_article_title_raw = FindArticleTitle(scraped_payload)\n",
    "\n",
    "\tprint(f\"Current article sentiment: {current_article_sentiment}\")\n",
    "\tprint(f\"Current article title: {current_article_title_raw}\")\n",
    "\tprint()\n",
    "\n",
    "\t# Storage\n",
    "\topp_articles = []\n",
    "\n",
    "\t# Isolating the keywords\n",
    "\tkeywords = KeywordFinder(current_article_title_raw, stopwords)\n",
    "\tprint(f\"Isolated keywords: {keywords}\")\n",
    "\tprint()\n",
    "    \n",
    "\t# Looping over all keywords\n",
    "\tfor keyword in keywords:\n",
    "\t\tprint(f\"searching articles for: {keyword}\")\n",
    "\t\tarticles = SearchArticle(keyword, api_key)\n",
    "\t\tfor article in articles:\n",
    "\t\t\turl = article.get('url')\n",
    "\t\t\tif url:\n",
    "\n",
    "\t\t\t\t# Send url to Scraper\n",
    "\t\t\t\t# Send scraped text to NLP\n",
    "\t\t\t\t# Request sentiment from NLP\n",
    "\t\t\t\tfake_sentiments = [\"Left\", \"Middle\", \"Right\"]\n",
    "\t\t\t\tfake_sentiment = fake_sentiments[np.random.randint(0, 3)]\n",
    "\t\t\t\tprint(f\"Fake sentiment: {fake_sentiment}\")\n",
    "\n",
    "\t\t\t\t# Comparing sentiments\n",
    "\t\t\t\tif current_article_sentiment != fake_sentiment:\n",
    "\t\t\t\t\tprint(f\"Opposite sentiment: {current_article_sentiment}, {fake_sentiment}\")\n",
    "\t\t\t\t\topp_articles.append(article)\n",
    "\t\tprint()\n",
    "\treturn opp_articles"
   ]
  },
  {
   "cell_type": "code",
   "execution_count": 77,
   "metadata": {},
   "outputs": [],
   "source": [
    "API_KEY = \"69ea4f52545a4750a3c0e49811ffc8d3\""
   ]
  },
  {
   "cell_type": "code",
   "execution_count": 78,
   "metadata": {},
   "outputs": [
    {
     "name": "stdout",
     "output_type": "stream",
     "text": [
      "Current article sentiment: Right\n",
      "Current article title: Donald Trump is a great rolemodel\n",
      "\n",
      "Isolated keywords: ['Donald', 'Trump', 'great', 'rolemodel']\n",
      "\n",
      "searching articles for: Donald\n",
      "Fake sentiment: Middle\n",
      "Opposite sentiment: Right, Middle\n",
      "\n",
      "searching articles for: Trump\n",
      "Fake sentiment: Right\n",
      "Fake sentiment: Left\n",
      "Opposite sentiment: Right, Left\n",
      "Fake sentiment: Right\n",
      "Fake sentiment: Left\n",
      "Opposite sentiment: Right, Left\n",
      "Fake sentiment: Left\n",
      "Opposite sentiment: Right, Left\n",
      "\n",
      "searching articles for: great\n",
      "\n",
      "searching articles for: rolemodel\n",
      "\n"
     ]
    }
   ],
   "source": [
    "articles = NewsArticleFinder(API_KEY, stopwords, scraped_payload, eg_sentiment_payload)"
   ]
  },
  {
   "cell_type": "code",
   "execution_count": 80,
   "metadata": {},
   "outputs": [
    {
     "name": "stdout",
     "output_type": "stream",
     "text": [
      "https://www.usatoday.com/story/news/politics/2025/02/21/senate-passes-republican-border-security-bill/79409346007/\n",
      "https://www.pbs.org/newshour/world/after-trumps-censure-us-envoy-praises-zelenskyy\n",
      "https://www.usatoday.com/story/news/politics/2025/02/21/senate-passes-republican-border-security-bill/79409346007/\n",
      "https://www.bbc.com/news/articles/cy839m7xd1zo\n"
     ]
    }
   ],
   "source": [
    "for art in articles:\n",
    "    print(art[\"url\"])"
   ]
  },
  {
   "cell_type": "code",
   "execution_count": 74,
   "metadata": {},
   "outputs": [
    {
     "data": {
      "text/plain": [
       "5"
      ]
     },
     "execution_count": 74,
     "metadata": {},
     "output_type": "execute_result"
    }
   ],
   "source": [
    "articles.__len__()"
   ]
  },
  {
   "cell_type": "code",
   "execution_count": 59,
   "metadata": {},
   "outputs": [
    {
     "name": "stdout",
     "output_type": "stream",
     "text": [
      "Donald Trump is a great rolemodel\n",
      "Right\n"
     ]
    }
   ],
   "source": [
    "title = FindArticleTitle(scraped_payload)\n",
    "sentiment = SentimentProcessor(eg_sentiment_payload)\n",
    "print(title)\n",
    "print(sentiment)"
   ]
  },
  {
   "cell_type": "code",
   "execution_count": null,
   "metadata": {},
   "outputs": [],
   "source": []
  },
  {
   "cell_type": "code",
   "execution_count": 36,
   "metadata": {},
   "outputs": [
    {
     "name": "stdout",
     "output_type": "stream",
     "text": [
      "Left\n",
      "\n",
      "searching articles for: Trump\n",
      "Middle\n",
      "Right\n",
      "Right\n",
      "Left\n",
      "Left\n",
      "searching articles for: Weiner\n"
     ]
    }
   ],
   "source": [
    "x = NewsArticleFinder([\"Trump\", \"Weiner\"], \"ss\", eg_sentiment)"
   ]
  },
  {
   "cell_type": "code",
   "execution_count": 40,
   "metadata": {},
   "outputs": [
    {
     "name": "stdout",
     "output_type": "stream",
     "text": [
      "https://abcnews.go.com/Politics/trudeau-trolls-trump-after-canada-bests-usa-hockey/story?id\\\\u003d119039286\n",
      "https://www.pbs.org/newshour/world/after-trumps-censure-us-envoy-praises-zelenskyy\n",
      "https://www.bbc.com/news/articles/c93npyelnewo\n"
     ]
    }
   ],
   "source": [
    "for i in x:\n",
    "    print(i[\"url\"])"
   ]
  },
  {
   "cell_type": "code",
   "execution_count": 9,
   "metadata": {},
   "outputs": [
    {
     "data": {
      "text/plain": [
       "['Donald', 'Trump', 'amazing', 'role', 'model']"
      ]
     },
     "execution_count": 9,
     "metadata": {},
     "output_type": "execute_result"
    }
   ],
   "source": [
    "KeywordFinder(article_title, stopwords)"
   ]
  },
  {
   "cell_type": "code",
   "execution_count": 14,
   "metadata": {},
   "outputs": [],
   "source": [
    "words = article_title.split()"
   ]
  },
  {
   "cell_type": "code",
   "execution_count": 15,
   "metadata": {},
   "outputs": [],
   "source": [
    "key = [word for word in words if word.lower() not in stops]"
   ]
  },
  {
   "cell_type": "code",
   "execution_count": 21,
   "metadata": {},
   "outputs": [],
   "source": [
    "url = 'https://newsapi.org/v2/top-headlines'\n",
    "\n",
    "# Define parameters for the request (e.g., get US headlines)\n",
    "params = {\n",
    "    'q': 'Donald Trump',\n",
    "    'country': 'us',\n",
    "    'pageSize': 10,  # Limit the number of articles returned\n",
    "    'apiKey': API_KEY\n",
    "}\n",
    "\n",
    "# Make the GET request to the News API\n",
    "response = requests.get(url, params=params)"
   ]
  },
  {
   "cell_type": "code",
   "execution_count": null,
   "metadata": {},
   "outputs": [],
   "source": [
    "API_KEY = \"cfd774bd-10f0-47dd-91de-d8a1578a39d9\"\n",
    "new_key = \"69ea4f52545a4750a3c0e49811ffc8d3\""
   ]
  },
  {
   "cell_type": "code",
   "execution_count": 15,
   "metadata": {},
   "outputs": [
    {
     "name": "stdout",
     "output_type": "stream",
     "text": [
      "Title: Senate passes Republican border security bill without Trump tax cuts - USA TODAY\n",
      "Description: The Senate passed a Republican bill promoting President Donald Trump's immigration, energy and defense policies in the early hours of Friday.\n",
      "URL: https://www.usatoday.com/story/news/politics/2025/02/21/senate-passes-republican-border-security-bill/79409346007/\n",
      "----------------------------------------\n"
     ]
    }
   ],
   "source": [
    "# Check if the request was successful\n",
    "if response.status_code == 200:\n",
    "    data = response.json()\n",
    "    articles = data.get('articles', [])\n",
    "    for article in articles:\n",
    "        print(\"Title:\", article.get('title'))\n",
    "        print(\"Description:\", article.get('description'))\n",
    "        print(\"URL:\", article.get('url'))\n",
    "        print(\"-\" * 40)\n",
    "else:\n",
    "    print(\"Error fetching news:\", response.status_code)"
   ]
  },
  {
   "cell_type": "code",
   "execution_count": 21,
   "metadata": {},
   "outputs": [
    {
     "data": {
      "text/plain": [
       "[{'source': {'id': 'associated-press', 'name': 'Associated Press'},\n",
       "  'author': 'Christopher Rugaber, Paul Wiseman',\n",
       "  'title': 'Could Trump really return DOGE savings to taxpayers? - The Associated Press',\n",
       "  'description': 'An idea first proposed on social media has bubbled up to the White House and received President Donald Trump’s enthusiastic endorsement: Take some of the savings from billionaire Elon Musk’s drive to cut government spending and return it to taxpayers. If Musk…',\n",
       "  'url': 'https://apnews.com/article/trrump-doge-checks-inflation-7fb8b5b004faecc213c325fcbafc7ee9',\n",
       "  'urlToImage': 'https://dims.apnews.com/dims4/default/29ffc1e/2147483647/strip/true/crop/5754x3237+0+302/resize/1440x810!/quality/90/?url=https%3A%2F%2Fassets.apnews.com%2Fc8%2F16%2F21f1a4e7810a1e71dd8822875058%2F1880b583787e4c13a6504341af1af3ee',\n",
       "  'publishedAt': '2025-02-21T15:49:00Z',\n",
       "  'content': 'WASHINGTON (AP) An idea first proposed on social media has bubbled up to the White House and received President Donald Trumps enthusiastic endorsement: Take some of the savings from billionaire Elon … [+6025 chars]'}]"
      ]
     },
     "execution_count": 21,
     "metadata": {},
     "output_type": "execute_result"
    }
   ],
   "source": [
    "articles"
   ]
  },
  {
   "cell_type": "code",
   "execution_count": 10,
   "metadata": {},
   "outputs": [],
   "source": [
    "from eventregistry import *\n",
    "er = EventRegistry(apiKey = API_KEY)\n",
    "\n",
    "# get the USA URI\n",
    "usUri = er.getLocationUri(\"USA\")    # = http://en.wikipedia.org/wiki/United_States\n",
    "\n",
    "q = QueryArticlesIter(\n",
    "    keywords = QueryItems.OR([\"Donald Trump\"]),\n",
    "    minSentiment = 0.4,\n",
    "    sourceLocationUri = usUri,\n",
    "    dataType = [\"news\", \"blog\"])\n",
    "\n",
    "# obtain at most 500 newest articles or blog posts, remove maxItems to get all\n",
    "for art in q.execQuery(er, sortBy = \"date\", maxItems = 10):\n",
    "    print(art)"
   ]
  },
  {
   "cell_type": "code",
   "execution_count": 11,
   "metadata": {},
   "outputs": [],
   "source": [
    "x = q.execQuery(er, sortBy=\"date\", maxItems=5)"
   ]
  },
  {
   "cell_type": "code",
   "execution_count": 12,
   "metadata": {},
   "outputs": [
    {
     "data": {
      "text/plain": [
       "<eventregistry.QueryArticles.QueryArticlesIter at 0x27745a75b50>"
      ]
     },
     "execution_count": 12,
     "metadata": {},
     "output_type": "execute_result"
    }
   ],
   "source": []
  },
  {
   "cell_type": "code",
   "execution_count": 20,
   "metadata": {},
   "outputs": [
    {
     "data": {
      "text/plain": [
       "<Response [401]>"
      ]
     },
     "execution_count": 20,
     "metadata": {},
     "output_type": "execute_result"
    }
   ],
   "source": [
    "response"
   ]
  },
  {
   "cell_type": "code",
   "execution_count": null,
   "metadata": {},
   "outputs": [],
   "source": []
  },
  {
   "cell_type": "code",
   "execution_count": null,
   "metadata": {},
   "outputs": [],
   "source": []
  },
  {
   "cell_type": "code",
   "execution_count": 4,
   "metadata": {},
   "outputs": [],
   "source": [
    "url = \"https://www.foxnews.com/politics/judge-grants-19-ags-preliminary-injunction-against-doge-access-treasury-payment-system\"\n"
   ]
  },
  {
   "cell_type": "markdown",
   "metadata": {},
   "source": [
    "### Scraper"
   ]
  },
  {
   "cell_type": "code",
   "execution_count": null,
   "metadata": {},
   "outputs": [],
   "source": [
    "from flask import Flask, request, jsonify\n",
    "from readability import Document\n",
    "from bs4 import BeautifulSoup\n",
    "import requests\n",
    "import json\n",
    "import re\n",
    "\n",
    "app = Flask(__name__)\n",
    "\n",
    "def fetch_webpage(url):\n",
    "    headers = {\n",
    "        \"User-Agent\": (\"Mozilla/5.0 (Windows NT 10.0; Win64; x64) \"\n",
    "                       \"AppleWebKit/537.36 (KHTML, like Gecko) \"\n",
    "                       \"Chrome/90.0.4430.93 Safari/537.36\")\n",
    "    }\n",
    "    try:\n",
    "        response = requests.get(url, headers=headers, timeout=10)\n",
    "        response.raise_for_status()  # Raises HTTPError for bad responses\n",
    "        return response.text\n",
    "    except requests.exceptions.RequestException as e:\n",
    "        print(f\"Error fetching URL: {e}\")\n",
    "        return None\n",
    "\n",
    "def parse_with_readability(html_content):\n",
    "    # Use readability to extract the main content and title\n",
    "    doc = Document(html_content)\n",
    "    summary_html = doc.summary()\n",
    "    title = doc.title()\n",
    "    \n",
    "    # Parse the summary HTML using BeautifulSoup\n",
    "    soup = BeautifulSoup(summary_html, \"lxml\")\n",
    "    text = soup.get_text(separator=\"\\n\")\n",
    "    \n",
    "    # Clean up the extracted text:\n",
    "    lines = [line.strip() for line in text.splitlines()]\n",
    "    clean_lines = [line for line in lines if line]\n",
    "    clean_text = \"\\n\".join(clean_lines)\n",
    "    clean_text = re.sub(r'\\s{2,}', ' ', clean_text)\n",
    "    \n",
    "    return clean_text, title\n",
    "\n",
    "@app.route('/scrape', methods=['POST'])\n",
    "def scrape():\n",
    "    # Get JSON data from the POST request\n",
    "    data = request.get_json()\n",
    "    url = data.get(\"url\")\n",
    "    if not url:\n",
    "        return jsonify({\"error\": \"Missing URL parameter\"}), 400\n",
    "\n",
    "    # Fetch the webpage content\n",
    "    html_content = fetch_webpage(url)\n",
    "    if not html_content:\n",
    "        return jsonify({\"error\": \"Failed to fetch webpage content\"}), 500\n",
    "\n",
    "    # Parse the webpage content using readability and BeautifulSoup\n",
    "    parsed_text, title = parse_with_readability(html_content)\n",
    "\n",
    "    # Prepare the result dictionary\n",
    "    result = {\n",
    "        \"url\": url,\n",
    "        \"title\": title,\n",
    "        \"text\": parsed_text\n",
    "    }\n",
    "\n",
    "    # Save the result to a JSON file\n",
    "    try:\n",
    "        with open(\"scraped_result.json\", \"w\", encoding=\"utf-8\") as f:\n",
    "            json.dump(result, f, ensure_ascii=False, indent=4)\n",
    "    except Exception as e:\n",
    "        print(f\"Error writing JSON to file: {e}\")\n",
    "\n",
    "    # Return the result as a JSON response\n",
    "    return jsonify(result)\n",
    "\n",
    "# if __name__ == \"__main__\":\n",
    "#     app.run(debug=True)"
   ]
  },
  {
   "cell_type": "markdown",
   "metadata": {},
   "source": [
    "### Comms with front end\n",
    "\n",
    "recieve url from chrome extension\n",
    "\n",
    "Turn into a json payload\n",
    "\n",
    "curl or something the payload into the thingy ma bob\n",
    "\n",
    "take the output and send to liam's nlp model"
   ]
  },
  {
   "cell_type": "code",
   "execution_count": null,
   "metadata": {},
   "outputs": [],
   "source": []
  }
 ],
 "metadata": {
  "kernelspec": {
   "display_name": "_Scraper_Venv_",
   "language": "python",
   "name": "python3"
  },
  "language_info": {
   "codemirror_mode": {
    "name": "ipython",
    "version": 3
   },
   "file_extension": ".py",
   "mimetype": "text/x-python",
   "name": "python",
   "nbconvert_exporter": "python",
   "pygments_lexer": "ipython3",
   "version": "3.11.8"
  }
 },
 "nbformat": 4,
 "nbformat_minor": 2
}
